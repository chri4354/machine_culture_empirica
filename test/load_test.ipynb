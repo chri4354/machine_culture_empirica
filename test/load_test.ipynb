{
 "cells": [
  {
   "cell_type": "code",
   "execution_count": 1,
   "metadata": {},
   "outputs": [],
   "source": [
    "from selenium import webdriver\n",
    "from selenium.webdriver.firefox.options import Options\n",
    "from selenium.webdriver.common.keys import Keys\n",
    "import time\n",
    "import random\n",
    "import datetime\n",
    "import multiprocessing"
   ]
  },
  {
   "cell_type": "code",
   "execution_count": 2,
   "metadata": {},
   "outputs": [],
   "source": [
    "n_browser = 4\n",
    "tot_games = 200"
   ]
  },
  {
   "cell_type": "code",
   "execution_count": 3,
   "metadata": {},
   "outputs": [],
   "source": [
    "def get_url(url):\n",
    "    options = Options()\n",
    "    options.headless = True\n",
    "    driver = webdriver.Firefox(options=options)\n",
    "    driver.get(url)\n",
    "    driver.implicitly_wait(10) # seconds\n",
    "    return driver"
   ]
  },
  {
   "cell_type": "code",
   "execution_count": 4,
   "metadata": {},
   "outputs": [],
   "source": [
    "def start_game(driver):\n",
    "    # accept aggreement\n",
    "    driver.find_element_by_class_name(\"bp3-intent-success\").click()\n",
    "\n",
    "    # go through intro\n",
    "    for i in range(7):\n",
    "        driver.find_element_by_xpath('//button[text()=\"Next\"]').click()\n",
    "\n",
    "    # fill out questionaer\n",
    "    question_groups = driver.find_elements_by_class_name('question-group')\n",
    "    answers = ['false', 'true', 'false', 'true']\n",
    "    for qg, answer in zip(question_groups, answers):\n",
    "        qg.find_element_by_xpath(f'.//input[@value=\"{answer}\"]').click()\n",
    "\n",
    "    # submit\n",
    "    driver.find_element_by_xpath('//button[text()=\"Submit\"]').click()\n",
    "\n",
    "\n",
    "def random_play(driver, player_name):\n",
    "    counter = 1\n",
    "    while True:\n",
    "        try:\n",
    "            xpath = \"//h1[text()='Play yourself']\"\n",
    "            driver.find_element_by_xpath(xpath)\n",
    "            if counter > 0:\n",
    "                r = driver.find_element_by_xpath('//a[@tabindex=\"0\"]').text\n",
    "                print(f'[{player_name}] Started {r}')\n",
    "        except:\n",
    "            if counter > 5:\n",
    "                print(f'[{player_name}] Got stucked')\n",
    "                raise NameError('Got stucked.')\n",
    "            counter += 1\n",
    "            try:\n",
    "                driver.find_element_by_class_name('exit-survey')\n",
    "            except:\n",
    "                continue\n",
    "            break\n",
    "        counter = 0\n",
    "        try:\n",
    "            node = random.choice('ABCDEF')\n",
    "            xpath = f\"//*[name()='svg']//*[name()='g']//*[name()='g']//*[text()='{node}']\"\n",
    "            driver.find_element_by_xpath(xpath).click()\n",
    "        except:\n",
    "            pass\n",
    "\n",
    "def fill_out_survey(driver):\n",
    "    try:\n",
    "        driver.find_element_by_id('question1').send_keys(\"All Fine!\")\n",
    "        xpath = \"//button[text()='Submit']\"\n",
    "        driver.find_element_by_xpath(xpath).click()\n",
    "    except:\n",
    "        pass\n",
    "\n",
    "def test_run(player_name):\n",
    "    pid = datetime.datetime.now().isoformat()\n",
    "    driver = get_url(f\"http://3.127.208.75/?PROLIFIC_PID={pid}\")\n",
    "    try:\n",
    "        print(f'[{player_name}] Start intro')\n",
    "        start_game(driver)\n",
    "        print(f'[{player_name}] Start game loop')\n",
    "        random_play(driver, player_name)\n",
    "        print(f'[{player_name}] Fill out survey')\n",
    "        fill_out_survey(driver)\n",
    "        print(f'[{player_name}] Quit')\n",
    "    except:\n",
    "        pass\n",
    "    finally:\n",
    "        driver.quit()"
   ]
  },
  {
   "cell_type": "code",
   "execution_count": 5,
   "metadata": {},
   "outputs": [
    {
     "output_type": "stream",
     "name": "stdout",
     "text": "[30] Start intro\n[0] Start intro\n[10] Start intro\n[20] Start intro\n[40] Start intro\n[30] Start game loop\n[10] Start game loop\n[40] Start game loop\n[20] Start game loop\n[0] Start game loop\n[30] Started Round 1\n[10] Started Round 1\n[40] Started Round 1\n[20] Started Round 1\n[0] Started Round 1\n[30] Started Round 2\n[40] Started Round 2\n[10] Started Round 2\n[0] Started Round 2\n[20] Started Round 2\n[40] Started Round 3\n[30] Started Round 3\n[20] Started Round 3\n[10] Started Round 3\n[0] Started Round 3\n[30] Started Round 4\n[40] Started Round 4\n[10] Started Round 4\n[20] Started Round 4\n[0] Started Round 4\n[30] Started Round 5\n[10] Started Round 5\n[40] Started Round 5\n[20] Started Round 5\n[0] Started Round 5\n[50] Start intro\n[50] Start game loop\n[20] Started Round 6\n[10] Started Round 6\n[30] Started Round 6\n[40] Started Round 6\n[50] Started Round 1\n[10] Started Round 7\n[20] Started Round 7\n[40] Started Round 7\n[30] Started Round 7\n[50] Started Round 2\n[20] Started Round 8\n[10] Started Round 8\n[40] Started Round 8\n[30] Started Round 8\n[50] Started Round 3\n[20] Started Round 9\n[10] Started Round 9\n[30] Started Round 9\n[40] Started Round 9\n[50] Started Round 4\n[20] Started Round 10\n[10] Started Round 10\n[30] Started Round 10\n[40] Started Round 10\n[50] Started Round 5\n[10] Started Round 11\n[20] Started Round 11\n[30] Started Round 11\n[40] Started Round 11\n[50] Started Round 6\n[10] Started Round 12\n[20] Started Round 12\n[30] Started Round 12\n[50] Started Round 7\n[40] Started Round 12\n[20] Started Round 13\n[10] Started Round 13\n[40] Started Round 13\n[30] Started Round 13\n[50] Started Round 8\n[20] Started Round 14\n[10] Started Round 14\n[60] Start intro\n[40] Started Round 14\n[60] Start game loop\n[50] Started Round 9\n[30] Started Round 14\n[20] Started Round 15\n[60] Started Round 1\n[40] Started Round 15\n[50] Started Round 10\n[30] Started Round 15\n[20] Started Round 16\n[60] Started Round 2\n[40] Started Round 16\n[50] Started Round 11\n[30] Started Round 16\n[20] Started Round 17\n[70] Start intro\n[60] Started Round 3\n[40] Started Round 17\n[70] Start game loop\n[50] Started Round 12\n[20] Started Round 18\n[70] Started Round 1\n[60] Started Round 4\n[40] Started Round 18\n[50] Started Round 13\n[20] Started Round 19\n[70] Started Round 2\n[60] Started Round 5\n[40] Started Round 19\n[50] Started Round 14\n[20] Started Round 20\n[70] Started Round 3\n[60] Started Round 6\n[80] Start intro\n[50] Started Round 15\n[40] Started Round 20\n[20] Started Round 21\n[80] Start game loop\n[60] Started Round 7\n[50] Started Round 16\n[40] Started Round 21\n[90] Start intro\n[20] Started Round 22\n[80] Started Round 1\n[90] Start game loop\n[100] Start intro\n[50] Started Round 17\n[60] Started Round 8\n[100] Start game loop\n[90] Started Round 1\n[80] Started Round 2\n[60] Started Round 9\n[50] Started Round 18\n[100] Started Round 1\n[110] Start intro\n[90] Started Round 2\n[80] Started Round 3\n[110] Start game loop\n[50] Started Round 19\n[100] Started Round 2\n[50] Started Round 20\n[80] Started Round 4\n[110] Started Round 1\n[100] Started Round 3\n[90] Started Round 3\n[120] Start intro\n[50] Started Round 21\n[80] Started Round 5\n[110] Started Round 2\n[120] Start game loop\n[100] Started Round 4\n[130] Start intro\n[50] Started Round 22\n[120] Started Round 1\n[130] Start game loop\n[110] Started Round 3\n[140] Start intro\n[150] Start intro\n[100] Started Round 5\n[130] Started Round 1\n[140] Start game loop\n[150] Start game loop\n[110] Started Round 4\n[100] Started Round 6\n[140] Started Round 1\n[150] Started Round 1\n[130] Started Round 2\n[110] Started Round 5\n[100] Started Round 7\n[140] Started Round 2\n[150] Started Round 2\n[130] Started Round 3\n[110] Started Round 6\n[100] Started Round 8\n[160] Start intro\n[140] Started Round 3\n[150] Started Round 3\n[130] Started Round 4\n[160] Start game loop\n[100] Started Round 9\n[140] Started Round 4\n[150] Started Round 4\n[130] Started Round 5\n[160] Started Round 1\n[170] Start intro\n[100] Started Round 10\n[140] Started Round 5\n[170] Start game loop\n[150] Started Round 5\n[160] Started Round 2\n[170] Started Round 1\n[100] Started Round 11\n[140] Started Round 6\n[150] Started Round 6\n[160] Started Round 3\n[100] Started Round 12\n[170] Started Round 2\n[140] Started Round 7\n[150] Started Round 7\n[160] Started Round 4\n[170] Started Round 3\n[100] Started Round 13\n[140] Started Round 8\n[150] Started Round 8\n[160] Started Round 5\n[140] Started Round 9\n[100] Started Round 14\n[170] Started Round 4\n[180] Start intro\n[150] Started Round 9\n[160] Started Round 6\n[170] Started Round 5\n[100] Started Round 15\n[180] Start game loop\n[150] Started Round 10\n[160] Started Round 7\n[180] Started Round 1\n[100] Started Round 16\n[170] Started Round 6\n[150] Started Round 11\n[160] Started Round 8\n[180] Started Round 2\n[100] Started Round 17\n[170] Started Round 7\n[150] Started Round 12\n[160] Started Round 9\n[180] Started Round 3\n[100] Started Round 18\n[170] Started Round 8\n[150] Started Round 13\n[160] Started Round 10\n[180] Started Round 4\n[100] Started Round 19\n[170] Started Round 9\n[150] Started Round 14\n[160] Started Round 11\n[180] Started Round 5\n[100] Started Round 20\n[170] Started Round 10\n[150] Started Round 15\n[190] Start intro\n[160] Started Round 12\n[180] Started Round 6\n[100] Started Round 21\n[190] Start game loop\n[150] Started Round 16\n[160] Started Round 13\n[190] Started Round 1\n[100] Started Round 22\n[160] Started Round 14\n[160] Started Round 15\n[160] Started Round 16\n[160] Started Round 17\n[160] Started Round 18\n[160] Started Round 19\n[160] Started Round 20\n[160] Started Round 21\n[160] Started Round 22\n[160] Started Round 23\n[160] Started Round 24\n[160] Started Round 25\n[160] Started Round 26\n"
    },
    {
     "output_type": "error",
     "ename": "StaleElementReferenceException",
     "evalue": "Message: The element reference of <text> is stale; either the element is no longer attached to the DOM, it is not in the current frame context, or the document has been refreshed\n",
     "traceback": [
      "\u001b[0;31m---------------------------------------------------------------------------\u001b[0m",
      "\u001b[0;31mRemoteTraceback\u001b[0m                           Traceback (most recent call last)",
      "\u001b[0;31mRemoteTraceback\u001b[0m: \n\"\"\"\nTraceback (most recent call last):\n  File \"/usr/lib/python3.7/multiprocessing/pool.py\", line 121, in worker\n    result = (True, func(*args, **kwds))\n  File \"/usr/lib/python3.7/multiprocessing/pool.py\", line 44, in mapstar\n    return list(map(*args))\n  File \"<ipython-input-4-2c22998d9b8d>\", line 55, in test_run\n    random_play(driver, player_name)\n  File \"<ipython-input-4-2c22998d9b8d>\", line 43, in random_play\n    driver.find_element_by_xpath(xpath).click()\n  File \"/home/local/MPIB-BERLIN/brinkmann/repros/machine_culture_empirica/test/.venv/lib/python3.7/site-packages/selenium/webdriver/remote/webelement.py\", line 80, in click\n    self._execute(Command.CLICK_ELEMENT)\n  File \"/home/local/MPIB-BERLIN/brinkmann/repros/machine_culture_empirica/test/.venv/lib/python3.7/site-packages/selenium/webdriver/remote/webelement.py\", line 633, in _execute\n    return self._parent.execute(command, params)\n  File \"/home/local/MPIB-BERLIN/brinkmann/repros/machine_culture_empirica/test/.venv/lib/python3.7/site-packages/selenium/webdriver/remote/webdriver.py\", line 321, in execute\n    self.error_handler.check_response(response)\n  File \"/home/local/MPIB-BERLIN/brinkmann/repros/machine_culture_empirica/test/.venv/lib/python3.7/site-packages/selenium/webdriver/remote/errorhandler.py\", line 242, in check_response\n    raise exception_class(message, screen, stacktrace)\nselenium.common.exceptions.StaleElementReferenceException: Message: The element reference of <text> is stale; either the element is no longer attached to the DOM, it is not in the current frame context, or the document has been refreshed\n\n\"\"\"",
      "\nThe above exception was the direct cause of the following exception:\n",
      "\u001b[0;31mStaleElementReferenceException\u001b[0m            Traceback (most recent call last)",
      "\u001b[0;32m<ipython-input-5-342c0524387e>\u001b[0m in \u001b[0;36m<module>\u001b[0;34m\u001b[0m\n\u001b[1;32m      1\u001b[0m \u001b[0mpool\u001b[0m \u001b[0;34m=\u001b[0m \u001b[0mmultiprocessing\u001b[0m\u001b[0;34m.\u001b[0m\u001b[0mPool\u001b[0m\u001b[0;34m(\u001b[0m\u001b[0mn_browser\u001b[0m\u001b[0;34m)\u001b[0m\u001b[0;34m\u001b[0m\u001b[0;34m\u001b[0m\u001b[0m\n\u001b[0;32m----> 2\u001b[0;31m \u001b[0mpool\u001b[0m\u001b[0;34m.\u001b[0m\u001b[0mmap\u001b[0m\u001b[0;34m(\u001b[0m\u001b[0mtest_run\u001b[0m\u001b[0;34m,\u001b[0m \u001b[0mrange\u001b[0m\u001b[0;34m(\u001b[0m\u001b[0;36m0\u001b[0m\u001b[0;34m,\u001b[0m \u001b[0mtot_games\u001b[0m\u001b[0;34m)\u001b[0m\u001b[0;34m)\u001b[0m\u001b[0;34m\u001b[0m\u001b[0;34m\u001b[0m\u001b[0m\n\u001b[0m",
      "\u001b[0;32m/usr/lib/python3.7/multiprocessing/pool.py\u001b[0m in \u001b[0;36mmap\u001b[0;34m(self, func, iterable, chunksize)\u001b[0m\n\u001b[1;32m    266\u001b[0m         \u001b[0;32min\u001b[0m \u001b[0ma\u001b[0m \u001b[0mlist\u001b[0m \u001b[0mthat\u001b[0m \u001b[0;32mis\u001b[0m \u001b[0mreturned\u001b[0m\u001b[0;34m.\u001b[0m\u001b[0;34m\u001b[0m\u001b[0;34m\u001b[0m\u001b[0m\n\u001b[1;32m    267\u001b[0m         '''\n\u001b[0;32m--> 268\u001b[0;31m         \u001b[0;32mreturn\u001b[0m \u001b[0mself\u001b[0m\u001b[0;34m.\u001b[0m\u001b[0m_map_async\u001b[0m\u001b[0;34m(\u001b[0m\u001b[0mfunc\u001b[0m\u001b[0;34m,\u001b[0m \u001b[0miterable\u001b[0m\u001b[0;34m,\u001b[0m \u001b[0mmapstar\u001b[0m\u001b[0;34m,\u001b[0m \u001b[0mchunksize\u001b[0m\u001b[0;34m)\u001b[0m\u001b[0;34m.\u001b[0m\u001b[0mget\u001b[0m\u001b[0;34m(\u001b[0m\u001b[0;34m)\u001b[0m\u001b[0;34m\u001b[0m\u001b[0;34m\u001b[0m\u001b[0m\n\u001b[0m\u001b[1;32m    269\u001b[0m \u001b[0;34m\u001b[0m\u001b[0m\n\u001b[1;32m    270\u001b[0m     \u001b[0;32mdef\u001b[0m \u001b[0mstarmap\u001b[0m\u001b[0;34m(\u001b[0m\u001b[0mself\u001b[0m\u001b[0;34m,\u001b[0m \u001b[0mfunc\u001b[0m\u001b[0;34m,\u001b[0m \u001b[0miterable\u001b[0m\u001b[0;34m,\u001b[0m \u001b[0mchunksize\u001b[0m\u001b[0;34m=\u001b[0m\u001b[0;32mNone\u001b[0m\u001b[0;34m)\u001b[0m\u001b[0;34m:\u001b[0m\u001b[0;34m\u001b[0m\u001b[0;34m\u001b[0m\u001b[0m\n",
      "\u001b[0;32m/usr/lib/python3.7/multiprocessing/pool.py\u001b[0m in \u001b[0;36mget\u001b[0;34m(self, timeout)\u001b[0m\n\u001b[1;32m    655\u001b[0m             \u001b[0;32mreturn\u001b[0m \u001b[0mself\u001b[0m\u001b[0;34m.\u001b[0m\u001b[0m_value\u001b[0m\u001b[0;34m\u001b[0m\u001b[0;34m\u001b[0m\u001b[0m\n\u001b[1;32m    656\u001b[0m         \u001b[0;32melse\u001b[0m\u001b[0;34m:\u001b[0m\u001b[0;34m\u001b[0m\u001b[0;34m\u001b[0m\u001b[0m\n\u001b[0;32m--> 657\u001b[0;31m             \u001b[0;32mraise\u001b[0m \u001b[0mself\u001b[0m\u001b[0;34m.\u001b[0m\u001b[0m_value\u001b[0m\u001b[0;34m\u001b[0m\u001b[0;34m\u001b[0m\u001b[0m\n\u001b[0m\u001b[1;32m    658\u001b[0m \u001b[0;34m\u001b[0m\u001b[0m\n\u001b[1;32m    659\u001b[0m     \u001b[0;32mdef\u001b[0m \u001b[0m_set\u001b[0m\u001b[0;34m(\u001b[0m\u001b[0mself\u001b[0m\u001b[0;34m,\u001b[0m \u001b[0mi\u001b[0m\u001b[0;34m,\u001b[0m \u001b[0mobj\u001b[0m\u001b[0;34m)\u001b[0m\u001b[0;34m:\u001b[0m\u001b[0;34m\u001b[0m\u001b[0;34m\u001b[0m\u001b[0m\n",
      "\u001b[0;31mStaleElementReferenceException\u001b[0m: Message: The element reference of <text> is stale; either the element is no longer attached to the DOM, it is not in the current frame context, or the document has been refreshed\n"
     ]
    }
   ],
   "source": [
    "pool = multiprocessing.Pool(n_browser)\n",
    "pool.map(test_run, range(0, tot_games))"
   ]
  },
  {
   "cell_type": "code",
   "execution_count": 6,
   "metadata": {},
   "outputs": [],
   "source": [
    "# player_name = 1\n",
    "# print(f'[{player_name}] Start intro')\n",
    "# driver = start_game(datetime.datetime.now().isoformat())\n",
    "# print(f'[{player_name}] Start game loop')\n",
    "# random_play(driver, player_name)\n",
    "\n",
    "# print(f'[{player_name}] Quit')\n",
    "# driver.quit()"
   ]
  },
  {
   "cell_type": "code",
   "execution_count": 7,
   "metadata": {},
   "outputs": [],
   "source": [
    "# fill_out_survey(driver)"
   ]
  },
  {
   "cell_type": "code",
   "execution_count": null,
   "metadata": {},
   "outputs": [],
   "source": []
  }
 ],
 "metadata": {
  "language_info": {
   "codemirror_mode": {
    "name": "ipython",
    "version": 3
   },
   "file_extension": ".py",
   "mimetype": "text/x-python",
   "name": "python",
   "nbconvert_exporter": "python",
   "pygments_lexer": "ipython3",
   "version": "3.7.6-final"
  },
  "orig_nbformat": 2,
  "kernelspec": {
   "name": "python37664bitvenvvenv65e9c77e85864464bf698dab6baceac3",
   "display_name": "Python 3.7.6 64-bit ('.venv': venv)"
  }
 },
 "nbformat": 4,
 "nbformat_minor": 2
}