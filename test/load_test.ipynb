{
 "cells": [
  {
   "cell_type": "code",
   "execution_count": 8,
   "metadata": {},
   "outputs": [],
   "source": [
    "from selenium import webdriver\n",
    "from selenium.webdriver.firefox.options import Options\n",
    "from selenium.webdriver.common.keys import Keys\n",
    "import time\n",
    "import random\n",
    "import datetime\n",
    "import multiprocessing"
   ]
  },
  {
   "cell_type": "code",
   "execution_count": 9,
   "metadata": {},
   "outputs": [],
   "source": [
    "n_browser = 4\n",
    "tot_games = 200"
   ]
  },
  {
   "cell_type": "code",
   "execution_count": 10,
   "metadata": {},
   "outputs": [],
   "source": [
    "def get_url(url):\n",
    "    options = Options()\n",
    "    options.headless = True\n",
    "    driver = webdriver.Firefox(options=options)\n",
    "    driver.get(url)\n",
    "    driver.implicitly_wait(10) # seconds\n",
    "    return driver"
   ]
  },
  {
   "cell_type": "code",
   "execution_count": 11,
   "metadata": {},
   "outputs": [],
   "source": [
    "def start_game(driver):\n",
    "    # accept aggreement\n",
    "    driver.find_element_by_class_name(\"bp3-intent-success\").click()\n",
    "\n",
    "    # go through intro\n",
    "    for i in range(7):\n",
    "        driver.find_element_by_xpath('//button[text()=\"Next\"]').click()\n",
    "\n",
    "    # fill out questionaer\n",
    "    question_groups = driver.find_elements_by_class_name('question-group')\n",
    "    answers = ['false', 'true', 'false', 'true']\n",
    "    for qg, answer in zip(question_groups, answers):\n",
    "        qg.find_element_by_xpath(f'.//input[@value=\"{answer}\"]').click()\n",
    "\n",
    "    # submit\n",
    "    driver.find_element_by_xpath('//button[text()=\"Submit\"]').click()\n",
    "\n",
    "\n",
    "def random_play(driver, player_name):\n",
    "    counter = 1\n",
    "    while True:\n",
    "        try:\n",
    "            xpath = \"//h1[text()='Play yourself']\"\n",
    "            driver.find_element_by_xpath(xpath)\n",
    "            if counter > 0:\n",
    "                r = driver.find_element_by_xpath('//a[@tabindex=\"0\"]').text\n",
    "                print(f'[{player_name}] Started {r}')\n",
    "        except:\n",
    "            if counter > 5:\n",
    "                print(f'[{player_name}] Got stucked')\n",
    "                raise NameError('Got stucked.')\n",
    "            counter += 1\n",
    "            try:\n",
    "                driver.find_element_by_class_name('exit-survey')\n",
    "            except:\n",
    "                continue\n",
    "            break\n",
    "        counter = 0\n",
    "        try:\n",
    "            node = random.choice('ABCDEF')\n",
    "            xpath = f\"//*[name()='svg']//*[name()='g']//*[name()='g']//*[text()='{node}']\"\n",
    "            driver.find_element_by_xpath(xpath).click()\n",
    "        except:\n",
    "            pass\n",
    "\n",
    "def fill_out_survey(driver):\n",
    "    try:\n",
    "        driver.find_element_by_id('question1').send_keys(\"All Fine!\")\n",
    "        xpath = \"//button[text()='Submit']\"\n",
    "        driver.find_element_by_xpath(xpath).click()\n",
    "    except:\n",
    "        pass\n",
    "\n",
    "def test_run(player_name):\n",
    "    pid = datetime.datetime.now().isoformat()\n",
    "    driver = get_url(f\"http://3.127.208.75/?PROLIFIC_PID={pid}\")\n",
    "    try:\n",
    "        print(f'[{player_name}] Start intro')\n",
    "        start_game(driver)\n",
    "        print(f'[{player_name}] Start game loop')\n",
    "        random_play(driver, player_name)\n",
    "        print(f'[{player_name}] Fill out survey')\n",
    "        fill_out_survey(driver)\n",
    "        print(f'[{player_name}] Quit')\n",
    "    except:\n",
    "        pass\n",
    "    finally:\n",
    "        driver.quit()"
   ]
  },
  {
   "cell_type": "code",
   "execution_count": 12,
   "metadata": {},
   "outputs": [
    {
     "output_type": "stream",
     "name": "stdout",
     "text": "[39] Start intro\n[13] Start intro\n[26] Start intro\n[0] Start intro\n[39] Start game loop\n[13] Start game loop\n[26] Start game loop\n[0] Start game loop\n[39] Got stucked\n[26] Got stucked\n[13] Got stucked\n[0] Got stucked\n[14] Start intro\n[27] Start intro\n[40] Start intro\n[1] Start intro\n[15] Start intro\n[2] Start intro\n[41] Start intro\n[28] Start intro\n[15] Start game loop\n[2] Start game loop\n[28] Start game loop\n[41] Start game loop\n[15] Got stucked\n[2] Got stucked\n[28] Got stucked\n[41] Got stucked\n[3] Start intro\n[16] Start intro\n[29] Start intro\n[42] Start intro\n[17] Start intro\n[4] Start intro\n[43] Start intro\n[30] Start intro\n[18] Start intro\n[5] Start intro\n[31] Start intro\n[44] Start intro\n[5] Start game loop\n[18] Start game loop\n[31] Start game loop\n[44] Start game loop\n[18] Started Round 1\n[5] Started Round 1\n[44] Started Round 1\n[31] Started Round 1\n[18] Started Round 2\n[44] Started Round 2\n[5] Started Round 2\n[31] Started Round 2\n[18] Started Round 3\n[44] Started Round 3\n[5] Started Round 3\n[31] Started Round 3\n[18] Started Round 4\n[44] Started Round 4\n[5] Started Round 4\n[31] Started Round 4\n[18] Started Round 5\n[44] Started Round 5\n[5] Started Round 5\n[31] Started Round 5\n[18] Started Round 6\n[44] Started Round 6\n[5] Started Round 6\n[31] Started Round 6\n[18] Started Round 7\n[44] Started Round 7\n[5] Started Round 7\n[31] Started Round 7\n[18] Started Round 8\n[31] Started Round 8\n[5] Started Round 8\n[44] Started Round 8\n[18] Started Round 9\n[5] Started Round 9\n[31] Started Round 9\n[44] Started Round 9\n[18] Started Round 10\n[31] Started Round 10\n[5] Started Round 10\n[44] Started Round 10\n[18] Started Round 11\n[5] Started Round 11\n[31] Started Round 11\n[44] Started Round 11\n[18] Started Round 12\n[5] Started Round 12\n[31] Started Round 12\n[44] Started Round 12\n[18] Started Round 13\n[5] Started Round 13\n[31] Started Round 13\n[44] Started Round 13\n[18] Started Round 14\n[5] Started Round 14\n[31] Started Round 14\n[44] Started Round 14\n[5] Started Round 15\n[18] Started Round 15\n[31] Started Round 15\n[44] Started Round 15\n[18] Started Round 16\n[5] Started Round 16\n[31] Started Round 16\n[44] Started Round 16\n[18] Started Round 17\n[5] Started Round 17\n[31] Started Round 17\n[44] Started Round 17\n[18] Started Round 18\n[5] Started Round 18\n[31] Started Round 18\n[44] Started Round 18\n[18] Started Round 19\n[5] Started Round 19\n[31] Started Round 19\n[44] Started Round 19\n[18] Started Round 20\n[5] Started Round 20\n[31] Started Round 20\n[18] Started Round 21\n[44] Started Round 20\n[5] Started Round 21\n[31] Started Round 21\n[18] Started Round 22\n[44] Started Round 21\n[5] Started Round 22\n[31] Started Round 22\n[44] Started Round 22\n[18] Started Round 23\n[5] Started Round 23\n[31] Started Round 23\n[44] Started Round 23\n[18] Started Round 24\n[5] Started Round 24\n[31] Started Round 24\n[44] Started Round 24\n[18] Started Round 25\n[5] Started Round 25\n[31] Started Round 25\n[44] Started Round 25\n[18] Started Round 26\n[5] Started Round 26\n[31] Started Round 26\n[44] Started Round 26\n[18] Started Round 27\n[5] Started Round 27\n[31] Started Round 27\n[44] Started Round 27\n[18] Started Round 28\n[5] Started Round 28\n[44] Started Round 28\n[31] Started Round 28\n[18] Started Round 29\n[5] Started Round 29\n[31] Started Round 29\n[18] Started Round 30\n[44] Started Round 29\n[5] Started Round 30\n[31] Started Round 30\n[18] Started Round 31\n[44] Started Round 30\n[5] Started Round 31\n[31] Started Round 31\n[44] Started Round 31\n[18] Started Round 32\n[31] Started Round 32\n[44] Started Round 32\n[5] Started Round 32\n[18] Started Round 33\n[31] Started Round 33\n[5] Started Round 33\n[44] Started Round 33\n[18] Started Round 34\n[31] Started Round 34\n[5] Started Round 34\n[44] Started Round 34\n[18] Started Round 35\n[5] Started Round 35\n[31] Started Round 35\n[44] Started Round 35\n[18] Started Round 36\n[5] Started Round 36\n[31] Started Round 36\n[44] Started Round 36\n[18] Started Round 37\n[31] Started Round 37\n[5] Started Round 37\n[44] Started Round 37\n[18] Started Round 38\n[5] Started Round 38\n[31] Started Round 38\n[44] Started Round 38\n[18] Started Round 39\n[5] Started Round 39\n[44] Started Round 39\n[18] Started Round 40\n[31] Started Round 39\n[5] Started Round 40\n[44] Started Round 40\n[18] Started Round 41\n[31] Started Round 40\n[5] Started Round 41\n[44] Started Round 41\n[18] Started Round 42\n[31] Started Round 41\n[5] Started Round 42\n[44] Started Round 42\n[18] Started Round 43\n[31] Started Round 42\n[5] Started Round 43\n[44] Started Round 43\n[18] Started Round 44\n[31] Started Round 43\n[5] Started Round 44\n[44] Started Round 44\n[18] Started Round 45\n[31] Started Round 44\n[5] Started Round 45\n[44] Started Round 45\n[18] Started Round 46\n[31] Started Round 45\n[5] Started Round 46\n[44] Started Round 46\n[18] Started Round 47\n[31] Started Round 46\n[5] Started Round 47\n[18] Started Round 48\n[44] Started Round 47\n[31] Started Round 47\n[5] Started Round 48\n[18] Started Round 49\n[44] Started Round 48\n[5] Started Round 49\n[31] Started Round 48\n[18] Started Round 50\n[44] Started Round 49\n[5] Started Round 50\n[31] Started Round 49\n[18] Started Round 51\n[44] Started Round 50\n[5] Started Round 51\n[18] Started Round 52\n[31] Started Round 50\n[44] Started Round 51\n[5] Started Round 52\n[18] Started Round 53\n[31] Started Round 51\n[44] Started Round 52\n[5] Started Round 53\n[18] Started Round 54\n[31] Started Round 52\n[44] Started Round 53\n[18] Started Round 55\n[5] Started Round 54\n[31] Started Round 53\n[44] Started Round 54\n[18] Started Round 56\n[5] Started Round 55\n[31] Started Round 54\n[44] Started Round 55\n[18] Started Round 57\n[5] Started Round 56\n[31] Started Round 55\n[44] Started Round 56\n[18] Started Round 58\n[31] Started Round 56\n[44] Started Round 57\n[5] Started Round 57\n[18] Started Round 59\n[31] Started Round 57\n[5] Started Round 58\n[44] Started Round 58\n[18] Started Round 60\n[44] Started Round 59\n[31] Started Round 58\n[5] Started Round 59\n[18] Started Round 61\n[44] Started Round 60\n[31] Started Round 59\n[5] Started Round 60\n[18] Started Round 62\n[31] Started Round 60\n[5] Started Round 61\n[44] Started Round 61\n[18] Started Round 63\n[31] Started Round 61\n[5] Started Round 62\n[44] Started Round 62\n[18] Started Round 64\n[31] Started Round 62\n[5] Started Round 63\n[44] Started Round 63\n[18] Started Round 65\n[5] Started Round 64\n[31] Started Round 63\n[44] Started Round 64\n[18] Started Round 66\n[5] Started Round 65\n[44] Started Round 65\n[31] Started Round 64\n[18] Started Round 67\n[44] Started Round 66\n[5] Started Round 66\n[31] Started Round 65\n[18] Started Round 68\n[44] Started Round 67\n[31] Started Round 66\n[5] Started Round 67\n[18] Started Round 69\n[44] Started Round 68\n[5] Started Round 68\n[31] Started Round 67\n[18] Started Round 70\n[44] Started Round 69\n[5] Started Round 69\n[31] Started Round 68\n[18] Started Round 71\n[44] Started Round 70\n[5] Started Round 70\n[31] Started Round 69\n[18] Started Round 72\n[44] Started Round 71\n[31] Started Round 70\n[5] Started Round 71\n[18] Started Round 73\n[44] Started Round 72\n[31] Started Round 71\n[5] Started Round 72\n[18] Started Round 74\n[44] Started Round 73\n[5] Started Round 73\n[31] Started Round 72\n[18] Started Round 75\n[44] Started Round 74\n[5] Started Round 74\n[31] Started Round 73\n[18] Started Round 76\n[44] Started Round 75\n[31] Started Round 74\n[5] Started Round 75\n[44] Started Round 76\n[18] Started Round 77\n[5] Started Round 76\n[31] Started Round 75\n[44] Started Round 77\n[18] Started Round 78\n[31] Started Round 76\n[5] Started Round 77\n[44] Started Round 78\n[18] Started Round 79\n[31] Started Round 77\n[5] Started Round 78\n[44] Started Round 79\n[18] Started Round 80\n[31] Started Round 78\n[5] Started Round 79\n[44] Started Round 80\n[31] Started Round 79\n[18] Started Round 81\n[5] Started Round 80\n[44] Started Round 81\n[31] Started Round 80\n[5] Started Round 81\n[18] Started Round 82\n[44] Started Round 82\n[18] Fill out survey\n[18] Quit\n[31] Started Round 81\n[44] Fill out survey\n[44] Quit\n[19] Start intro\n[19] Start game loop\n[5] Started Round 82\n[45] Start intro\n[46] Start intro\n[19] Got stucked\n[47] Start intro\n[20] Start intro\n[31] Got stucked\n[48] Start intro\n[5] Got stucked\n[32] Start intro\n[21] Start intro\n[49] Start intro\n[6] Start intro\n[32] Start game loop\n[21] Start game loop\n[7] Start intro\n[50] Start intro\n[50] Start game loop\n[7] Start game loop\n[32] Started Round 1\n[21] Started Round 1\n[50] Started Round 1\n[7] Started Round 1\n[32] Started Round 2\n[7] Started Round 2\n[50] Started Round 2\n[21] Started Round 2\n[32] Started Round 3\n[7] Started Round 3\n[50] Started Round 3\n[21] Started Round 3\n[50] Started Round 4\n[7] Started Round 4\n[32] Started Round 4\n[21] Started Round 4\n[50] Started Round 5\n[21] Started Round 5\n[32] Started Round 5\n[7] Started Round 5\n[50] Started Round 6\n[7] Started Round 6\n[32] Started Round 6\n[21] Started Round 6\n[50] Started Round 7\n[32] Started Round 7\n[7] Started Round 7\n[21] Started Round 7\n[50] Started Round 8\n[32] Started Round 8\n[7] Started Round 8\n[21] Started Round 8\n[50] Started Round 9\n[32] Started Round 9\n[7] Started Round 9\n[21] Started Round 9\n[50] Started Round 10\n[32] Started Round 10\n[7] Started Round 10\n[21] Started Round 10\n[50] Started Round 11\n[32] Started Round 11\n[7] Started Round 11\n[21] Started Round 11\n[50] Started Round 12\n[32] Started Round 12\n[7] Started Round 12\n[21] Started Round 12\n[50] Started Round 13\n[32] Started Round 13\n[7] Started Round 13\n[21] Started Round 13\n[50] Started Round 14\n[32] Started Round 14\n[7] Started Round 14\n[50] Started Round 15\n[21] Started Round 14\n[32] Started Round 15\n[7] Started Round 15\n[21] Started Round 15\n[50] Started Round 16\n[32] Started Round 16\n[7] Started Round 16\n[21] Started Round 16\n[50] Started Round 17\n[32] Started Round 17\n[7] Started Round 17\n[21] Started Round 17\n[50] Started Round 18\n[32] Started Round 18\n[7] Started Round 18\n[21] Started Round 18\n[50] Started Round 19\n[32] Started Round 19\n[21] Started Round 19\n[50] Started Round 20\n[7] Started Round 19\n[32] Started Round 20\n[21] Started Round 20\n[7] Started Round 20\n[50] Started Round 21\n[32] Started Round 21\n[21] Started Round 21\n[50] Started Round 22\n[7] Started Round 21\n[32] Started Round 22\n[21] Started Round 22\n[7] Started Round 22\n[50] Started Round 23\n[32] Started Round 23\n[7] Started Round 23\n[50] Started Round 24\n[21] Started Round 23\n[32] Started Round 24\n[7] Started Round 24\n[50] Started Round 25\n[21] Started Round 24\n[32] Started Round 25\n[50] Started Round 26\n[21] Started Round 25\n[7] Started Round 25\n[50] Got stucked\n[21] Got stucked\n[7] Got stucked\n[32] Got stucked\n"
    },
    {
     "output_type": "error",
     "ename": "KeyboardInterrupt",
     "evalue": "",
     "traceback": [
      "\u001b[0;31m---------------------------------------------------------------------------\u001b[0m",
      "\u001b[0;31mKeyboardInterrupt\u001b[0m                         Traceback (most recent call last)",
      "\u001b[0;32m<ipython-input-12-342c0524387e>\u001b[0m in \u001b[0;36m<module>\u001b[0;34m\u001b[0m\n\u001b[1;32m      1\u001b[0m \u001b[0mpool\u001b[0m \u001b[0;34m=\u001b[0m \u001b[0mmultiprocessing\u001b[0m\u001b[0;34m.\u001b[0m\u001b[0mPool\u001b[0m\u001b[0;34m(\u001b[0m\u001b[0mn_browser\u001b[0m\u001b[0;34m)\u001b[0m\u001b[0;34m\u001b[0m\u001b[0;34m\u001b[0m\u001b[0m\n\u001b[0;32m----> 2\u001b[0;31m \u001b[0mpool\u001b[0m\u001b[0;34m.\u001b[0m\u001b[0mmap\u001b[0m\u001b[0;34m(\u001b[0m\u001b[0mtest_run\u001b[0m\u001b[0;34m,\u001b[0m \u001b[0mrange\u001b[0m\u001b[0;34m(\u001b[0m\u001b[0;36m0\u001b[0m\u001b[0;34m,\u001b[0m \u001b[0mtot_games\u001b[0m\u001b[0;34m)\u001b[0m\u001b[0;34m)\u001b[0m\u001b[0;34m\u001b[0m\u001b[0;34m\u001b[0m\u001b[0m\n\u001b[0m",
      "\u001b[0;32m/usr/lib/python3.7/multiprocessing/pool.py\u001b[0m in \u001b[0;36mmap\u001b[0;34m(self, func, iterable, chunksize)\u001b[0m\n\u001b[1;32m    266\u001b[0m         \u001b[0;32min\u001b[0m \u001b[0ma\u001b[0m \u001b[0mlist\u001b[0m \u001b[0mthat\u001b[0m \u001b[0;32mis\u001b[0m \u001b[0mreturned\u001b[0m\u001b[0;34m.\u001b[0m\u001b[0;34m\u001b[0m\u001b[0;34m\u001b[0m\u001b[0m\n\u001b[1;32m    267\u001b[0m         '''\n\u001b[0;32m--> 268\u001b[0;31m         \u001b[0;32mreturn\u001b[0m \u001b[0mself\u001b[0m\u001b[0;34m.\u001b[0m\u001b[0m_map_async\u001b[0m\u001b[0;34m(\u001b[0m\u001b[0mfunc\u001b[0m\u001b[0;34m,\u001b[0m \u001b[0miterable\u001b[0m\u001b[0;34m,\u001b[0m \u001b[0mmapstar\u001b[0m\u001b[0;34m,\u001b[0m \u001b[0mchunksize\u001b[0m\u001b[0;34m)\u001b[0m\u001b[0;34m.\u001b[0m\u001b[0mget\u001b[0m\u001b[0;34m(\u001b[0m\u001b[0;34m)\u001b[0m\u001b[0;34m\u001b[0m\u001b[0;34m\u001b[0m\u001b[0m\n\u001b[0m\u001b[1;32m    269\u001b[0m \u001b[0;34m\u001b[0m\u001b[0m\n\u001b[1;32m    270\u001b[0m     \u001b[0;32mdef\u001b[0m \u001b[0mstarmap\u001b[0m\u001b[0;34m(\u001b[0m\u001b[0mself\u001b[0m\u001b[0;34m,\u001b[0m \u001b[0mfunc\u001b[0m\u001b[0;34m,\u001b[0m \u001b[0miterable\u001b[0m\u001b[0;34m,\u001b[0m \u001b[0mchunksize\u001b[0m\u001b[0;34m=\u001b[0m\u001b[0;32mNone\u001b[0m\u001b[0;34m)\u001b[0m\u001b[0;34m:\u001b[0m\u001b[0;34m\u001b[0m\u001b[0;34m\u001b[0m\u001b[0m\n",
      "\u001b[0;32m/usr/lib/python3.7/multiprocessing/pool.py\u001b[0m in \u001b[0;36mget\u001b[0;34m(self, timeout)\u001b[0m\n\u001b[1;32m    649\u001b[0m \u001b[0;34m\u001b[0m\u001b[0m\n\u001b[1;32m    650\u001b[0m     \u001b[0;32mdef\u001b[0m \u001b[0mget\u001b[0m\u001b[0;34m(\u001b[0m\u001b[0mself\u001b[0m\u001b[0;34m,\u001b[0m \u001b[0mtimeout\u001b[0m\u001b[0;34m=\u001b[0m\u001b[0;32mNone\u001b[0m\u001b[0;34m)\u001b[0m\u001b[0;34m:\u001b[0m\u001b[0;34m\u001b[0m\u001b[0;34m\u001b[0m\u001b[0m\n\u001b[0;32m--> 651\u001b[0;31m         \u001b[0mself\u001b[0m\u001b[0;34m.\u001b[0m\u001b[0mwait\u001b[0m\u001b[0;34m(\u001b[0m\u001b[0mtimeout\u001b[0m\u001b[0;34m)\u001b[0m\u001b[0;34m\u001b[0m\u001b[0;34m\u001b[0m\u001b[0m\n\u001b[0m\u001b[1;32m    652\u001b[0m         \u001b[0;32mif\u001b[0m \u001b[0;32mnot\u001b[0m \u001b[0mself\u001b[0m\u001b[0;34m.\u001b[0m\u001b[0mready\u001b[0m\u001b[0;34m(\u001b[0m\u001b[0;34m)\u001b[0m\u001b[0;34m:\u001b[0m\u001b[0;34m\u001b[0m\u001b[0;34m\u001b[0m\u001b[0m\n\u001b[1;32m    653\u001b[0m             \u001b[0;32mraise\u001b[0m \u001b[0mTimeoutError\u001b[0m\u001b[0;34m\u001b[0m\u001b[0;34m\u001b[0m\u001b[0m\n",
      "\u001b[0;32m/usr/lib/python3.7/multiprocessing/pool.py\u001b[0m in \u001b[0;36mwait\u001b[0;34m(self, timeout)\u001b[0m\n\u001b[1;32m    646\u001b[0m \u001b[0;34m\u001b[0m\u001b[0m\n\u001b[1;32m    647\u001b[0m     \u001b[0;32mdef\u001b[0m \u001b[0mwait\u001b[0m\u001b[0;34m(\u001b[0m\u001b[0mself\u001b[0m\u001b[0;34m,\u001b[0m \u001b[0mtimeout\u001b[0m\u001b[0;34m=\u001b[0m\u001b[0;32mNone\u001b[0m\u001b[0;34m)\u001b[0m\u001b[0;34m:\u001b[0m\u001b[0;34m\u001b[0m\u001b[0;34m\u001b[0m\u001b[0m\n\u001b[0;32m--> 648\u001b[0;31m         \u001b[0mself\u001b[0m\u001b[0;34m.\u001b[0m\u001b[0m_event\u001b[0m\u001b[0;34m.\u001b[0m\u001b[0mwait\u001b[0m\u001b[0;34m(\u001b[0m\u001b[0mtimeout\u001b[0m\u001b[0;34m)\u001b[0m\u001b[0;34m\u001b[0m\u001b[0;34m\u001b[0m\u001b[0m\n\u001b[0m\u001b[1;32m    649\u001b[0m \u001b[0;34m\u001b[0m\u001b[0m\n\u001b[1;32m    650\u001b[0m     \u001b[0;32mdef\u001b[0m \u001b[0mget\u001b[0m\u001b[0;34m(\u001b[0m\u001b[0mself\u001b[0m\u001b[0;34m,\u001b[0m \u001b[0mtimeout\u001b[0m\u001b[0;34m=\u001b[0m\u001b[0;32mNone\u001b[0m\u001b[0;34m)\u001b[0m\u001b[0;34m:\u001b[0m\u001b[0;34m\u001b[0m\u001b[0;34m\u001b[0m\u001b[0m\n",
      "\u001b[0;32m/usr/lib/python3.7/threading.py\u001b[0m in \u001b[0;36mwait\u001b[0;34m(self, timeout)\u001b[0m\n\u001b[1;32m    550\u001b[0m             \u001b[0msignaled\u001b[0m \u001b[0;34m=\u001b[0m \u001b[0mself\u001b[0m\u001b[0;34m.\u001b[0m\u001b[0m_flag\u001b[0m\u001b[0;34m\u001b[0m\u001b[0;34m\u001b[0m\u001b[0m\n\u001b[1;32m    551\u001b[0m             \u001b[0;32mif\u001b[0m \u001b[0;32mnot\u001b[0m \u001b[0msignaled\u001b[0m\u001b[0;34m:\u001b[0m\u001b[0;34m\u001b[0m\u001b[0;34m\u001b[0m\u001b[0m\n\u001b[0;32m--> 552\u001b[0;31m                 \u001b[0msignaled\u001b[0m \u001b[0;34m=\u001b[0m \u001b[0mself\u001b[0m\u001b[0;34m.\u001b[0m\u001b[0m_cond\u001b[0m\u001b[0;34m.\u001b[0m\u001b[0mwait\u001b[0m\u001b[0;34m(\u001b[0m\u001b[0mtimeout\u001b[0m\u001b[0;34m)\u001b[0m\u001b[0;34m\u001b[0m\u001b[0;34m\u001b[0m\u001b[0m\n\u001b[0m\u001b[1;32m    553\u001b[0m             \u001b[0;32mreturn\u001b[0m \u001b[0msignaled\u001b[0m\u001b[0;34m\u001b[0m\u001b[0;34m\u001b[0m\u001b[0m\n\u001b[1;32m    554\u001b[0m \u001b[0;34m\u001b[0m\u001b[0m\n",
      "\u001b[0;32m/usr/lib/python3.7/threading.py\u001b[0m in \u001b[0;36mwait\u001b[0;34m(self, timeout)\u001b[0m\n\u001b[1;32m    294\u001b[0m         \u001b[0;32mtry\u001b[0m\u001b[0;34m:\u001b[0m    \u001b[0;31m# restore state no matter what (e.g., KeyboardInterrupt)\u001b[0m\u001b[0;34m\u001b[0m\u001b[0;34m\u001b[0m\u001b[0m\n\u001b[1;32m    295\u001b[0m             \u001b[0;32mif\u001b[0m \u001b[0mtimeout\u001b[0m \u001b[0;32mis\u001b[0m \u001b[0;32mNone\u001b[0m\u001b[0;34m:\u001b[0m\u001b[0;34m\u001b[0m\u001b[0;34m\u001b[0m\u001b[0m\n\u001b[0;32m--> 296\u001b[0;31m                 \u001b[0mwaiter\u001b[0m\u001b[0;34m.\u001b[0m\u001b[0macquire\u001b[0m\u001b[0;34m(\u001b[0m\u001b[0;34m)\u001b[0m\u001b[0;34m\u001b[0m\u001b[0;34m\u001b[0m\u001b[0m\n\u001b[0m\u001b[1;32m    297\u001b[0m                 \u001b[0mgotit\u001b[0m \u001b[0;34m=\u001b[0m \u001b[0;32mTrue\u001b[0m\u001b[0;34m\u001b[0m\u001b[0;34m\u001b[0m\u001b[0m\n\u001b[1;32m    298\u001b[0m             \u001b[0;32melse\u001b[0m\u001b[0;34m:\u001b[0m\u001b[0;34m\u001b[0m\u001b[0;34m\u001b[0m\u001b[0m\n",
      "\u001b[0;31mKeyboardInterrupt\u001b[0m: "
     ]
    }
   ],
   "source": [
    "pool = multiprocessing.Pool(n_browser)\n",
    "pool.map(test_run, range(0, tot_games))"
   ]
  },
  {
   "cell_type": "code",
   "execution_count": 6,
   "metadata": {},
   "outputs": [],
   "source": [
    "# player_name = 1\n",
    "# print(f'[{player_name}] Start intro')\n",
    "# driver = start_game(datetime.datetime.now().isoformat())\n",
    "# print(f'[{player_name}] Start game loop')\n",
    "# random_play(driver, player_name)\n",
    "\n",
    "# print(f'[{player_name}] Quit')\n",
    "# driver.quit()"
   ]
  },
  {
   "cell_type": "code",
   "execution_count": 7,
   "metadata": {},
   "outputs": [],
   "source": [
    "# fill_out_survey(driver)"
   ]
  },
  {
   "cell_type": "code",
   "execution_count": null,
   "metadata": {},
   "outputs": [],
   "source": []
  }
 ],
 "metadata": {
  "language_info": {
   "codemirror_mode": {
    "name": "ipython",
    "version": 3
   },
   "file_extension": ".py",
   "mimetype": "text/x-python",
   "name": "python",
   "nbconvert_exporter": "python",
   "pygments_lexer": "ipython3",
   "version": "3.7.6-final"
  },
  "orig_nbformat": 2,
  "kernelspec": {
   "name": "python37664bitvenvvenv65e9c77e85864464bf698dab6baceac3",
   "display_name": "Python 3.7.6 64-bit ('.venv': venv)"
  }
 },
 "nbformat": 4,
 "nbformat_minor": 2
}